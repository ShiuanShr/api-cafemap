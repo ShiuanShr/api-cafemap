{
 "cells": [
  {
   "cell_type": "code",
   "execution_count": null,
   "metadata": {},
   "outputs": [],
   "source": [
    "# hash to dataframe\n",
    "\n",
    "# remove na\n",
    "\n",
    "# normailize?\n"
   ]
  }
 ],
 "metadata": {
  "kernelspec": {
   "display_name": "Python 3",
   "language": "python",
   "name": "python3"
  },
  "language_info": {
   "name": "python",
   "version": "3.9.14 (main, Oct  5 2022, 14:16:14) \n[GCC 9.4.0]"
  },
  "orig_nbformat": 4,
  "vscode": {
   "interpreter": {
    "hash": "035e6431706c07fa0c0635c23d8fc2d151052157e8702658a753af53dd14bf59"
   }
  }
 },
 "nbformat": 4,
 "nbformat_minor": 2
}
