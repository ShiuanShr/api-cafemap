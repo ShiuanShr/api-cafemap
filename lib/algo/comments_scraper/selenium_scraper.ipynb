{
 "cells": [
  {
   "cell_type": "code",
   "execution_count": 1,
   "metadata": {},
   "outputs": [],
   "source": [
    "from sys import argv\n",
    "import sys\n",
    "\n",
    "import time\n",
    "import subprocess\n",
    "\n",
    "from selenium import webdriver\n",
    "from selenium.webdriver.chrome.service import Service"
   ]
  },
  {
   "cell_type": "code",
   "execution_count": 2,
   "metadata": {},
   "outputs": [],
   "source": [
    "\n",
    "def scrape_comments(store_name, chromedriver_path):\n",
    "    # Create a Service object using the path to the ChromeDriver executable\n",
    "    service = Service(chromedriver_path)\n",
    "    process = subprocess.Popen(['chromedriver', '--port=9515'], stdout=subprocess.PIPE, stderr=subprocess.STDOUT)\n",
    "    # Wait for the process to start\n",
    "    print(\"Start the service \\n\\n\")\n",
    "    service.start()\n",
    "    print(\"Service turn-on completed \\n\\n\")\n",
    "    # Start Chrome browser\n",
    "    driver = webdriver.Chrome(service=service)\n",
    "    \n",
    "    # Navigate to Google Maps\n",
    "    try:\n",
    "        driver.get(\"https://www.google.com/maps\")\n",
    "        print(\"Successfully navigated to Google Maps\")\n",
    "    except Exception as e:\n",
    "        print(\"Error navigating to Google Maps:\", e)\n",
    "        return\n",
    "\n",
    "    time.sleep(5)\n",
    "\n",
    "    # Check the return code\n",
    "    if process.poll() is None:\n",
    "        print(\"ChromeDriver service started successfully\")\n",
    "    else:\n",
    "        print(\"ChromeDriver service failed to start\")\n",
    "    # Wait for page to load\n",
    "    time.sleep(3)\n",
    "\n",
    "\n",
    "    # Find the search box and enter the store name\n",
    "    try:\n",
    "        search_box = driver.find_element_by_name(\"q\")\n",
    "        search_box.send_keys(store_name)\n",
    "        print(\"Successfully entered store name in search box\")\n",
    "    except Exception as e:\n",
    "        print(\"Error entering store name in search box:\", e)\n",
    "        return\n",
    "     # Wait for search results to load\n",
    "    time.sleep(3)\n",
    "\n",
    "    # Click on the first result\n",
    "    try:\n",
    "        first_result = driver.find_element_by_css_selector(\".section-result:first-of-type\")\n",
    "        first_result.click()\n",
    "        print(\"Successfully clicked on first result\")\n",
    "    except Exception as e:\n",
    "        print(\"Error clicking on first result:\", e)\n",
    "        return\n",
    "    # Wait for the store page to load\n",
    "    time.sleep(3)\n",
    "\n",
    "    # Find the \"Reviews\" tab and click on it\n"
   ]
  },
  {
   "cell_type": "code",
   "execution_count": 3,
   "metadata": {},
   "outputs": [
    {
     "name": "stdout",
     "output_type": "stream",
     "text": [
      "Start the service \n",
      "\n",
      "\n"
     ]
    },
    {
     "ename": "KeyboardInterrupt",
     "evalue": "",
     "output_type": "error",
     "traceback": [
      "\u001b[0;31m---------------------------------------------------------------------------\u001b[0m",
      "\u001b[0;31mKeyboardInterrupt\u001b[0m                         Traceback (most recent call last)",
      "\u001b[0;32m/tmp/ipykernel_3416/1928277470.py\u001b[0m in \u001b[0;36m<cell line: 3>\u001b[0;34m()\u001b[0m\n\u001b[1;32m      1\u001b[0m \u001b[0mstore_name\u001b[0m \u001b[0;34m=\u001b[0m \u001b[0msys\u001b[0m\u001b[0;34m.\u001b[0m\u001b[0margv\u001b[0m\u001b[0;34m[\u001b[0m\u001b[0;36m1\u001b[0m\u001b[0;34m]\u001b[0m\u001b[0;34m\u001b[0m\u001b[0;34m\u001b[0m\u001b[0m\n\u001b[1;32m      2\u001b[0m \u001b[0;34m\u001b[0m\u001b[0m\n\u001b[0;32m----> 3\u001b[0;31m \u001b[0mcomments\u001b[0m \u001b[0;34m=\u001b[0m \u001b[0mscrape_comments\u001b[0m\u001b[0;34m(\u001b[0m\u001b[0mstore_name\u001b[0m\u001b[0;34m,\u001b[0m \u001b[0;34m\"/mnt/c/Users/LeoShr/p_space/NTHU/2022_SOA/group_proj/api-cafemap/lib/chromedriver.exe\"\u001b[0m\u001b[0;34m)\u001b[0m\u001b[0;34m\u001b[0m\u001b[0;34m\u001b[0m\u001b[0m\n\u001b[0m\u001b[1;32m      4\u001b[0m \u001b[0mprint\u001b[0m\u001b[0;34m(\u001b[0m\u001b[0mcomments\u001b[0m\u001b[0;34m)\u001b[0m\u001b[0;34m\u001b[0m\u001b[0;34m\u001b[0m\u001b[0m\n",
      "\u001b[0;32m/tmp/ipykernel_3416/2838975540.py\u001b[0m in \u001b[0;36mscrape_comments\u001b[0;34m(store_name, chromedriver_path)\u001b[0m\n\u001b[1;32m      5\u001b[0m     \u001b[0;31m# Wait for the process to start\u001b[0m\u001b[0;34m\u001b[0m\u001b[0;34m\u001b[0m\u001b[0m\n\u001b[1;32m      6\u001b[0m     \u001b[0mprint\u001b[0m\u001b[0;34m(\u001b[0m\u001b[0;34m\"Start the service \\n\\n\"\u001b[0m\u001b[0;34m)\u001b[0m\u001b[0;34m\u001b[0m\u001b[0;34m\u001b[0m\u001b[0m\n\u001b[0;32m----> 7\u001b[0;31m     \u001b[0mservice\u001b[0m\u001b[0;34m.\u001b[0m\u001b[0mstart\u001b[0m\u001b[0;34m(\u001b[0m\u001b[0;34m)\u001b[0m\u001b[0;34m\u001b[0m\u001b[0;34m\u001b[0m\u001b[0m\n\u001b[0m\u001b[1;32m      8\u001b[0m     \u001b[0mprint\u001b[0m\u001b[0;34m(\u001b[0m\u001b[0;34m\"Service turn-on completed \\n\\n\"\u001b[0m\u001b[0;34m)\u001b[0m\u001b[0;34m\u001b[0m\u001b[0;34m\u001b[0m\u001b[0m\n\u001b[1;32m      9\u001b[0m     \u001b[0;31m# Start Chrome browser\u001b[0m\u001b[0;34m\u001b[0m\u001b[0;34m\u001b[0m\u001b[0m\n",
      "\u001b[0;32m~/.pyenv/versions/3.9.14/lib/python3.9/site-packages/selenium/webdriver/common/service.py\u001b[0m in \u001b[0;36mstart\u001b[0;34m(self)\u001b[0m\n\u001b[1;32m    109\u001b[0m \u001b[0;34m\u001b[0m\u001b[0m\n\u001b[1;32m    110\u001b[0m             \u001b[0mcount\u001b[0m \u001b[0;34m+=\u001b[0m \u001b[0;36m1\u001b[0m\u001b[0;34m\u001b[0m\u001b[0;34m\u001b[0m\u001b[0m\n\u001b[0;32m--> 111\u001b[0;31m             \u001b[0msleep\u001b[0m\u001b[0;34m(\u001b[0m\u001b[0;36m0.5\u001b[0m\u001b[0;34m)\u001b[0m\u001b[0;34m\u001b[0m\u001b[0;34m\u001b[0m\u001b[0m\n\u001b[0m\u001b[1;32m    112\u001b[0m             \u001b[0;32mif\u001b[0m \u001b[0mcount\u001b[0m \u001b[0;34m==\u001b[0m \u001b[0;36m60\u001b[0m\u001b[0;34m:\u001b[0m\u001b[0;34m\u001b[0m\u001b[0;34m\u001b[0m\u001b[0m\n\u001b[1;32m    113\u001b[0m                 \u001b[0;32mraise\u001b[0m \u001b[0mWebDriverException\u001b[0m\u001b[0;34m(\u001b[0m\u001b[0;34mf\"Can not connect to the Service {self.path}\"\u001b[0m\u001b[0;34m)\u001b[0m\u001b[0;34m\u001b[0m\u001b[0;34m\u001b[0m\u001b[0m\n",
      "\u001b[0;31mKeyboardInterrupt\u001b[0m: "
     ]
    }
   ],
   "source": [
    "store_name = sys.argv[1]\n",
    "print(f\"store_name: {store_name}\")\n",
    "comments = scrape_comments(store_name, \"/mnt/c/Users/LeoShr/p_space/NTHU/2022_SOA/group_proj/api-cafemap/lib/chromedriver.exe\")\n",
    "print(comments)"
   ]
  },
  {
   "cell_type": "code",
   "execution_count": null,
   "metadata": {},
   "outputs": [],
   "source": []
  }
 ],
 "metadata": {
  "kernelspec": {
   "display_name": "Python 3",
   "language": "python",
   "name": "python3"
  },
  "language_info": {
   "codemirror_mode": {
    "name": "ipython",
    "version": 3
   },
   "file_extension": ".py",
   "mimetype": "text/x-python",
   "name": "python",
   "nbconvert_exporter": "python",
   "pygments_lexer": "ipython3",
   "version": "3.9.14 (main, Oct  5 2022, 14:16:14) \n[GCC 9.4.0]"
  },
  "orig_nbformat": 4,
  "vscode": {
   "interpreter": {
    "hash": "035e6431706c07fa0c0635c23d8fc2d151052157e8702658a753af53dd14bf59"
   }
  }
 },
 "nbformat": 4,
 "nbformat_minor": 2
}
